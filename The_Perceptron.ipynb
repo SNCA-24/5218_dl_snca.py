{
 "cells": [
  {
   "cell_type": "markdown",
   "metadata": {
    "id": "vYiZq0X2oB5t"
   },
   "source": [
    "# **CSCE 5218 / CSCE 4930 Deep Learning**\n",
    "\n",
    "# **The Perceptron** (20 pt)\n"
   ]
  },
  {
   "cell_type": "code",
   "execution_count": 14,
   "metadata": {
    "colab": {
     "base_uri": "https://localhost:8080/"
    },
    "id": "vGVmKzgG2Ium",
    "outputId": "4cc2ca21-861a-4fba-a38c-83e3ec04bec8"
   },
   "outputs": [
    {
     "data": {
      "text/plain": [
       "['  % Total    % Received % Xferd  Average Speed   Time    Time     Time  Current',\n",
       " '                                 Dload  Upload   Total   Spent    Left  Speed',\n",
       " '',\n",
       " '  0     0    0     0    0     0      0      0 --:--:-- --:--:-- --:--:--     0',\n",
       " '100 11645  100 11645    0     0   102k      0 --:--:-- --:--:-- --:--:--  103k']"
      ]
     },
     "execution_count": 14,
     "metadata": {},
     "output_type": "execute_result"
    }
   ],
   "source": [
    "# Get the datasets\n",
    "!!/usr/bin/curl --output test.dat https://raw.githubusercontent.com/huangyanann/CSCE5218/main/test_small.txt\n",
    "!!/usr/bin/curl --output train.dat https://raw.githubusercontent.com/huangyanann/CSCE5218/main/train.txt"
   ]
  },
  {
   "cell_type": "code",
   "execution_count": 15,
   "metadata": {
    "colab": {
     "base_uri": "https://localhost:8080/"
    },
    "id": "A69DxPSc8vNs",
    "outputId": "5440e602-8ecd-44cf-d48d-2e8b00cdcc52"
   },
   "outputs": [
    {
     "name": "stdout",
     "output_type": "stream",
     "text": [
      "A1\tA2\tA3\tA4\tA5\tA6\tA7\tA8\tA9\tA10\tA11\tA12\tA13\t\n",
      "1\t1\t0\t0\t0\t0\t0\t0\t1\t1\t0\t0\t1\t0\n",
      "0\t0\t1\t1\t0\t1\t1\t0\t0\t0\t0\t0\t1\t0\n",
      "0\t1\t0\t1\t1\t0\t1\t0\t1\t1\t1\t0\t1\t1\n",
      "0\t0\t1\t0\t0\t1\t0\t1\t0\t1\t1\t1\t1\t0\n",
      "0\t1\t0\t0\t0\t0\t0\t1\t1\t1\t1\t1\t1\t0\n",
      "0\t1\t1\t1\t0\t0\t0\t1\t0\t1\t1\t0\t1\t1\n",
      "0\t1\t1\t0\t0\t0\t1\t0\t0\t0\t0\t0\t1\t0\n",
      "0\t0\t0\t1\t1\t0\t1\t1\t1\t0\t0\t0\t1\t0\n",
      "0\t0\t0\t0\t0\t0\t1\t0\t1\t0\t1\t0\t1\t0\n",
      "X1\tX2\tX3\n",
      "1\t1\t1\t1\n",
      "0\t0\t1\t1\n",
      "0\t1\t1\t0\n",
      "0\t1\t1\t0\n",
      "0\t1\t1\t0\n",
      "0\t1\t1\t0\n",
      "0\t1\t1\t0\n",
      "0\t1\t1\t0\n",
      "1\t1\t1\t1\n"
     ]
    }
   ],
   "source": [
    "# Take a peek at the datasets\n",
    "!head train.dat\n",
    "!head test.dat"
   ]
  },
  {
   "cell_type": "markdown",
   "metadata": {
    "id": "rFXHLhnhwiBR"
   },
   "source": [
    "### Build the Perceptron Model\n",
    "\n",
    "You will need to complete some of the function definitions below.  DO NOT import any other libraries to complete this. "
   ]
  },
  {
   "cell_type": "code",
   "execution_count": 16,
   "metadata": {
    "id": "cXAsP_lw3QwJ"
   },
   "outputs": [],
   "source": [
    "import math\n",
    "import itertools\n",
    "import re\n",
    "\n",
    "\n",
    "# Corpus reader, all columns but the last one are coordinates;\n",
    "#   the last column is the label\n",
    "def read_data(file_name):\n",
    "    f = open(file_name, 'r')\n",
    "    data = []\n",
    "    # Discard header line\n",
    "    f.readline()\n",
    "    for instance in f.readlines():\n",
    "        if not re.search('\\t', instance): continue\n",
    "        instance = list(map(int, instance.strip().split('\\t')))\n",
    "        # Add a dummy input so that w0 becomes the bias\n",
    "        instance = [-1] + instance\n",
    "        data += [instance]\n",
    "    return data\n",
    "\n",
    "# def read_data(file_name):\n",
    "#     \"\"\"\n",
    "#     Read the dataset from the file.\n",
    "#     Each instance has coordinates and a label (last column). A dummy input (-1) is added for the bias.\n",
    "#     \"\"\"\n",
    "#     f = open(file_name, 'r')\n",
    "#     data = []\n",
    "#     # Discard header line\n",
    "#     f.readline()\n",
    "#     for instance in f.readlines():\n",
    "#         if not re.search('\\t', instance):\n",
    "#             continue\n",
    "#         # Convert the string values to integers and split by tab\n",
    "#         instance = list(map(int, instance.strip().split('\\t')))\n",
    "#         # Add dummy input (-1) for bias term\n",
    "#         instance = [-1] + instance\n",
    "#         data.append(instance)\n",
    "#     f.close()\n",
    "#     return data\n",
    "\n",
    "\n",
    "def dot_product(array1, array2):\n",
    "    \"\"\"\n",
    "    Compute the dot product between two arrays.\n",
    "    This is used in the perceptron for computing the weighted sum.\n",
    "    \"\"\"\n",
    "    return sum(x * y for x, y in zip(array1, array2))\n",
    "\n",
    "\n",
    "def sigmoid(x):\n",
    "    \"\"\"\n",
    "    Compute the sigmoid function for input x.\n",
    "    The sigmoid function is defined as 1 / (1 + exp(-x)).\n",
    "    \"\"\"\n",
    "    return 1 / (1 + math.exp(-x))\n",
    "\n",
    "# The output of the model, which for the perceptron is \n",
    "# the sigmoid function applied to the dot product of \n",
    "# the instance and the weights\n",
    "def output(weights, instance):\n",
    "    \"\"\"\n",
    "    Compute the perceptron output.\n",
    "    The output is the sigmoid applied to the dot product of weights and instance.\n",
    "    \"\"\"\n",
    "    return sigmoid(dot_product(weights, instance))\n",
    "\n",
    "# Predict the label of an instance; this is the definition of the perceptron\n",
    "# you should output 1 if the output is >= 0.5 else output 0\n",
    "def predict(weights, instance):\n",
    "    \"\"\"\n",
    "    Predict the label for an instance.\n",
    "    Return 1 if the model output is >= 0.5; otherwise, return 0.\n",
    "    \"\"\"\n",
    "    return 1 if output(weights, instance) >= 0.5 else 0\n",
    "\n",
    "\n",
    "# Accuracy = percent of correct predictions\n",
    "def get_accuracy(weights, instances):\n",
    "    # You do not to write code like this, but get used to it\n",
    "    correct = sum([1 if predict(weights, instance) == instance[-1] else 0\n",
    "                   for instance in instances])\n",
    "    return correct * 100 / len(instances)\n",
    "\n",
    "\n",
    "# Train a perceptron with instances and hyperparameters:\n",
    "#       lr (learning rate) \n",
    "#       epochs\n",
    "# The implementation comes from the definition of the perceptron\n",
    "#\n",
    "# Training consists on fitting the parameters which are the weights\n",
    "# that's the only thing training is responsible to fit\n",
    "# (recall that w0 is the bias, and w1..wn are the weights for each coordinate)\n",
    "#\n",
    "# Hyperparameters (lr and epochs) are given to the training algorithm\n",
    "# We are updating weights in the opposite direction of the gradient of the error,\n",
    "# so with a \"decent\" lr we are guaranteed to reduce the error after each iteration.\n",
    "\n",
    "\"\"\"\n",
    "    Train the perceptron model using gradient descent.\n",
    "    \n",
    "    Parameters:\n",
    "      instances: List of training examples.\n",
    "      lr: Learning rate.\n",
    "      epochs: Number of epochs.\n",
    "      \n",
    "    Returns:\n",
    "      weights: The trained weight vector.\n",
    "    \n",
    "    The training process involves:\n",
    "      1. Initializing the weight vector (including bias) to zeros.\n",
    "      2. For each epoch, iterate over all training instances.\n",
    "      3. Compute the weighted sum (dot product) for each instance.\n",
    "      4. Apply the sigmoid function to obtain the output.\n",
    "      5. Compute the error as the difference between the true label and output.\n",
    "      6. Update each weight using the gradient (which includes the derivative of the sigmoid).\n",
    "    \"\"\"\n",
    "\n",
    "def train_perceptron(instances, lr, epochs):\n",
    "    # Step 1: Initialize weights (number of features excluding label)\n",
    "    weights = [0] * (len(instances[0]) - 1)\n",
    "    \n",
    "    # Training loop over epochs\n",
    "    for epoch in range(epochs):\n",
    "        # Process each training instance\n",
    "        for instance in instances:\n",
    "            # Step 2: Compute the dot product of weights and instance inputs\n",
    "            in_value = dot_product(weights, instance)\n",
    "            # Step 3: Compute the output using the sigmoid function\n",
    "            out = sigmoid(in_value)\n",
    "            # Step 4: Compute the error (true label minus output)\n",
    "            error = instance[-1] - out\n",
    "            # Step 5: Update each weight using gradient descent\n",
    "            for i in range(len(weights)):\n",
    "                # Update rule: new_weight = old_weight + lr * error * derivative * input\n",
    "                # The derivative of sigmoid is out * (1 - out)\n",
    "                weights[i] += lr * error * out * (1 - out) * instance[i]\n",
    "    return weights"
   ]
  },
  {
   "cell_type": "markdown",
   "metadata": {
    "id": "adBZuMlAwiBT"
   },
   "source": [
    "## Run it"
   ]
  },
  {
   "cell_type": "code",
   "execution_count": 17,
   "metadata": {
    "id": "50YvUza-BYQF"
   },
   "outputs": [
    {
     "name": "stdout",
     "output_type": "stream",
     "text": [
      "#tr: 400, epochs:   5, learning rate: 0.005; Accuracy (test, 14 instances): 71.4\n"
     ]
    }
   ],
   "source": [
    "instances_tr = read_data(\"train.dat\")\n",
    "instances_te = read_data(\"test.dat\")\n",
    "lr = 0.005\n",
    "epochs = 5\n",
    "weights = train_perceptron(instances_tr, lr, epochs)\n",
    "accuracy = get_accuracy(weights, instances_te)\n",
    "print(f\"#tr: {len(instances_tr):3}, epochs: {epochs:3}, learning rate: {lr:.3f}; \"\n",
    "      f\"Accuracy (test, {len(instances_te)} instances): {accuracy:.1f}\")"
   ]
  },
  {
   "cell_type": "markdown",
   "metadata": {
    "id": "CBXkvaiQMohX"
   },
   "source": [
    "## Questions\n",
    "\n",
    "Answer the following questions. Include your implementation and the output for each question."
   ]
  },
  {
   "cell_type": "markdown",
   "metadata": {
    "id": "YCQ6BEk1CBlr",
    "jp-MarkdownHeadingCollapsed": true
   },
   "source": [
    "\n",
    "### Question 1\n",
    "\n",
    "In `train_perceptron(instances, lr, epochs)`, we have the follosing code:\n",
    "```\n",
    "in_value = dot_product(weights, instance)\n",
    "output = sigmoid(in_value)\n",
    "error = instance[-1] - output\n",
    "```\n",
    "\n",
    "Why don't we have the following code snippet instead?\n",
    "```\n",
    "output = predict(weights, instance)\n",
    "error = instance[-1] - output\n",
    "```\n",
    "\n",
    "#### TODO Add your answer here (text only)\n",
    "\"\"\"\n",
    "The training loop uses the continuous output of the sigmoid function (i.e., a value between 0 and 1) because this output is differentiable. The gradient update rule for the perceptron relies on the derivative of the sigmoid (namely, output × (1 – output)) to adjust the weights correctly. If we used predict(weights, instance), the output would be thresholded to either 0 or 1, losing the nuance required for gradient descent. In short, using the raw sigmoid output allows for meaningful gradient computations, which are essential for the weight update step.\n",
    "\"\"\""
   ]
  },
  {
   "cell_type": "markdown",
   "metadata": {
    "id": "JU3c3m6YL2rK"
   },
   "source": [
    "### Question 2\n",
    "Train the perceptron with the following hyperparameters and calculate the accuracy with the test dataset.\n",
    "\n",
    "```\n",
    "tr_percent = [5, 10, 25, 50, 75, 100] # percent of the training dataset to train with\n",
    "num_epochs = [5, 10, 20, 50, 100]              # number of epochs\n",
    "lr = [0.005, 0.01, 0.05]              # learning rate\n",
    "```\n",
    "\n",
    "TODO: Write your code below and include the output at the end of each training loop (NOT AFTER EACH EPOCH)\n",
    "of your code.The output should look like the following:\n",
    "```\n",
    "# tr:  20, epochs:   5, learning rate: 0.005; Accuracy (test, 100 instances): 68.0\n",
    "# tr:  20, epochs:  10, learning rate: 0.005; Accuracy (test, 100 instances): 68.0\n",
    "# tr:  20, epochs:  20, learning rate: 0.005; Accuracy (test, 100 instances): 68.0\n",
    "[and so on for all the combinations]\n",
    "```\n",
    "You will get different results with different hyperparameters.\n",
    "\n",
    "#### TODO Add your answer here (code and output in the format above) \n"
   ]
  },
  {
   "cell_type": "code",
   "execution_count": 18,
   "metadata": {
    "id": "G-VKJOUu2BTp"
   },
   "outputs": [
    {
     "name": "stdout",
     "output_type": "stream",
     "text": [
      "#tr:  20, epochs:   5, learning rate: 0.005; Accuracy (test, 14 instances): 71.4\n",
      "#tr:  20, epochs:  10, learning rate: 0.005; Accuracy (test, 14 instances): 71.4\n",
      "#tr:  20, epochs:  20, learning rate: 0.005; Accuracy (test, 14 instances): 71.4\n",
      "#tr:  20, epochs:  50, learning rate: 0.005; Accuracy (test, 14 instances): 71.4\n",
      "#tr:  20, epochs: 100, learning rate: 0.005; Accuracy (test, 14 instances): 85.7\n",
      "#tr:  40, epochs:   5, learning rate: 0.005; Accuracy (test, 14 instances): 71.4\n",
      "#tr:  40, epochs:  10, learning rate: 0.005; Accuracy (test, 14 instances): 71.4\n",
      "#tr:  40, epochs:  20, learning rate: 0.005; Accuracy (test, 14 instances): 71.4\n",
      "#tr:  40, epochs:  50, learning rate: 0.005; Accuracy (test, 14 instances): 71.4\n",
      "#tr:  40, epochs: 100, learning rate: 0.005; Accuracy (test, 14 instances): 71.4\n",
      "#tr: 100, epochs:   5, learning rate: 0.005; Accuracy (test, 14 instances): 71.4\n",
      "#tr: 100, epochs:  10, learning rate: 0.005; Accuracy (test, 14 instances): 71.4\n",
      "#tr: 100, epochs:  20, learning rate: 0.005; Accuracy (test, 14 instances): 71.4\n",
      "#tr: 100, epochs:  50, learning rate: 0.005; Accuracy (test, 14 instances): 71.4\n",
      "#tr: 100, epochs: 100, learning rate: 0.005; Accuracy (test, 14 instances): 71.4\n",
      "#tr: 200, epochs:   5, learning rate: 0.005; Accuracy (test, 14 instances): 71.4\n",
      "#tr: 200, epochs:  10, learning rate: 0.005; Accuracy (test, 14 instances): 71.4\n",
      "#tr: 200, epochs:  20, learning rate: 0.005; Accuracy (test, 14 instances): 71.4\n",
      "#tr: 200, epochs:  50, learning rate: 0.005; Accuracy (test, 14 instances): 85.7\n",
      "#tr: 200, epochs: 100, learning rate: 0.005; Accuracy (test, 14 instances): 85.7\n",
      "#tr: 300, epochs:   5, learning rate: 0.005; Accuracy (test, 14 instances): 71.4\n",
      "#tr: 300, epochs:  10, learning rate: 0.005; Accuracy (test, 14 instances): 71.4\n",
      "#tr: 300, epochs:  20, learning rate: 0.005; Accuracy (test, 14 instances): 71.4\n",
      "#tr: 300, epochs:  50, learning rate: 0.005; Accuracy (test, 14 instances): 71.4\n",
      "#tr: 300, epochs: 100, learning rate: 0.005; Accuracy (test, 14 instances): 85.7\n",
      "#tr: 400, epochs:   5, learning rate: 0.005; Accuracy (test, 14 instances): 71.4\n",
      "#tr: 400, epochs:  10, learning rate: 0.005; Accuracy (test, 14 instances): 71.4\n",
      "#tr: 400, epochs:  20, learning rate: 0.005; Accuracy (test, 14 instances): 71.4\n",
      "#tr: 400, epochs:  50, learning rate: 0.005; Accuracy (test, 14 instances): 71.4\n",
      "#tr: 400, epochs: 100, learning rate: 0.005; Accuracy (test, 14 instances): 71.4\n",
      "#tr:  20, epochs:   5, learning rate: 0.010; Accuracy (test, 14 instances): 71.4\n",
      "#tr:  20, epochs:  10, learning rate: 0.010; Accuracy (test, 14 instances): 71.4\n",
      "#tr:  20, epochs:  20, learning rate: 0.010; Accuracy (test, 14 instances): 71.4\n",
      "#tr:  20, epochs:  50, learning rate: 0.010; Accuracy (test, 14 instances): 85.7\n",
      "#tr:  20, epochs: 100, learning rate: 0.010; Accuracy (test, 14 instances): 42.9\n",
      "#tr:  40, epochs:   5, learning rate: 0.010; Accuracy (test, 14 instances): 71.4\n",
      "#tr:  40, epochs:  10, learning rate: 0.010; Accuracy (test, 14 instances): 71.4\n",
      "#tr:  40, epochs:  20, learning rate: 0.010; Accuracy (test, 14 instances): 71.4\n",
      "#tr:  40, epochs:  50, learning rate: 0.010; Accuracy (test, 14 instances): 71.4\n",
      "#tr:  40, epochs: 100, learning rate: 0.010; Accuracy (test, 14 instances): 85.7\n",
      "#tr: 100, epochs:   5, learning rate: 0.010; Accuracy (test, 14 instances): 71.4\n",
      "#tr: 100, epochs:  10, learning rate: 0.010; Accuracy (test, 14 instances): 71.4\n",
      "#tr: 100, epochs:  20, learning rate: 0.010; Accuracy (test, 14 instances): 71.4\n",
      "#tr: 100, epochs:  50, learning rate: 0.010; Accuracy (test, 14 instances): 71.4\n",
      "#tr: 100, epochs: 100, learning rate: 0.010; Accuracy (test, 14 instances): 28.6\n",
      "#tr: 200, epochs:   5, learning rate: 0.010; Accuracy (test, 14 instances): 71.4\n",
      "#tr: 200, epochs:  10, learning rate: 0.010; Accuracy (test, 14 instances): 71.4\n",
      "#tr: 200, epochs:  20, learning rate: 0.010; Accuracy (test, 14 instances): 71.4\n",
      "#tr: 200, epochs:  50, learning rate: 0.010; Accuracy (test, 14 instances): 85.7\n",
      "#tr: 200, epochs: 100, learning rate: 0.010; Accuracy (test, 14 instances): 85.7\n",
      "#tr: 300, epochs:   5, learning rate: 0.010; Accuracy (test, 14 instances): 71.4\n",
      "#tr: 300, epochs:  10, learning rate: 0.010; Accuracy (test, 14 instances): 71.4\n",
      "#tr: 300, epochs:  20, learning rate: 0.010; Accuracy (test, 14 instances): 71.4\n",
      "#tr: 300, epochs:  50, learning rate: 0.010; Accuracy (test, 14 instances): 85.7\n",
      "#tr: 300, epochs: 100, learning rate: 0.010; Accuracy (test, 14 instances): 85.7\n",
      "#tr: 400, epochs:   5, learning rate: 0.010; Accuracy (test, 14 instances): 71.4\n",
      "#tr: 400, epochs:  10, learning rate: 0.010; Accuracy (test, 14 instances): 71.4\n",
      "#tr: 400, epochs:  20, learning rate: 0.010; Accuracy (test, 14 instances): 71.4\n",
      "#tr: 400, epochs:  50, learning rate: 0.010; Accuracy (test, 14 instances): 71.4\n",
      "#tr: 400, epochs: 100, learning rate: 0.010; Accuracy (test, 14 instances): 71.4\n",
      "#tr:  20, epochs:   5, learning rate: 0.050; Accuracy (test, 14 instances): 71.4\n",
      "#tr:  20, epochs:  10, learning rate: 0.050; Accuracy (test, 14 instances): 85.7\n",
      "#tr:  20, epochs:  20, learning rate: 0.050; Accuracy (test, 14 instances): 42.9\n",
      "#tr:  20, epochs:  50, learning rate: 0.050; Accuracy (test, 14 instances): 42.9\n",
      "#tr:  20, epochs: 100, learning rate: 0.050; Accuracy (test, 14 instances): 42.9\n",
      "#tr:  40, epochs:   5, learning rate: 0.050; Accuracy (test, 14 instances): 71.4\n",
      "#tr:  40, epochs:  10, learning rate: 0.050; Accuracy (test, 14 instances): 71.4\n",
      "#tr:  40, epochs:  20, learning rate: 0.050; Accuracy (test, 14 instances): 71.4\n",
      "#tr:  40, epochs:  50, learning rate: 0.050; Accuracy (test, 14 instances): 28.6\n",
      "#tr:  40, epochs: 100, learning rate: 0.050; Accuracy (test, 14 instances): 42.9\n",
      "#tr: 100, epochs:   5, learning rate: 0.050; Accuracy (test, 14 instances): 71.4\n",
      "#tr: 100, epochs:  10, learning rate: 0.050; Accuracy (test, 14 instances): 71.4\n",
      "#tr: 100, epochs:  20, learning rate: 0.050; Accuracy (test, 14 instances): 28.6\n",
      "#tr: 100, epochs:  50, learning rate: 0.050; Accuracy (test, 14 instances): 28.6\n",
      "#tr: 100, epochs: 100, learning rate: 0.050; Accuracy (test, 14 instances): 28.6\n",
      "#tr: 200, epochs:   5, learning rate: 0.050; Accuracy (test, 14 instances): 85.7\n",
      "#tr: 200, epochs:  10, learning rate: 0.050; Accuracy (test, 14 instances): 85.7\n",
      "#tr: 200, epochs:  20, learning rate: 0.050; Accuracy (test, 14 instances): 85.7\n",
      "#tr: 200, epochs:  50, learning rate: 0.050; Accuracy (test, 14 instances): 85.7\n",
      "#tr: 200, epochs: 100, learning rate: 0.050; Accuracy (test, 14 instances): 85.7\n",
      "#tr: 300, epochs:   5, learning rate: 0.050; Accuracy (test, 14 instances): 71.4\n",
      "#tr: 300, epochs:  10, learning rate: 0.050; Accuracy (test, 14 instances): 85.7\n",
      "#tr: 300, epochs:  20, learning rate: 0.050; Accuracy (test, 14 instances): 85.7\n",
      "#tr: 300, epochs:  50, learning rate: 0.050; Accuracy (test, 14 instances): 85.7\n",
      "#tr: 300, epochs: 100, learning rate: 0.050; Accuracy (test, 14 instances): 85.7\n",
      "#tr: 400, epochs:   5, learning rate: 0.050; Accuracy (test, 14 instances): 71.4\n",
      "#tr: 400, epochs:  10, learning rate: 0.050; Accuracy (test, 14 instances): 71.4\n",
      "#tr: 400, epochs:  20, learning rate: 0.050; Accuracy (test, 14 instances): 71.4\n",
      "#tr: 400, epochs:  50, learning rate: 0.050; Accuracy (test, 14 instances): 71.4\n",
      "#tr: 400, epochs: 100, learning rate: 0.050; Accuracy (test, 14 instances): 71.4\n"
     ]
    }
   ],
   "source": [
    "# Read the datasets\n",
    "instances_tr = read_data(\"train.dat\")\n",
    "instances_te = read_data(\"test.dat\")\n",
    "\n",
    "# Define hyperparameter arrays\n",
    "tr_percent = [5, 10, 25, 50, 75, 100]  # Percentages of the training dataset\n",
    "num_epochs = [5, 10, 20, 50, 100]        # Different numbers of epochs\n",
    "lr_array = [0.005, 0.01, 0.05]           # Different learning rates\n",
    "\n",
    "# Iterate over each combination and print the accuracy on the test dataset\n",
    "for lr in lr_array:\n",
    "    for tr_size in tr_percent:\n",
    "        # Determine the number of training instances to use\n",
    "        size = round(len(instances_tr) * tr_size / 100)\n",
    "        pre_instances = instances_tr[:size]\n",
    "        for epochs in num_epochs:\n",
    "            weights = train_perceptron(pre_instances, lr, epochs)\n",
    "            accuracy = get_accuracy(weights, instances_te)\n",
    "            print(f\"#tr: {len(pre_instances):3}, epochs: {epochs:3}, learning rate: {lr:.3f}; \"\n",
    "                  f\"Accuracy (test, {len(instances_te)} instances): {accuracy:.1f}\")"
   ]
  },
  {
   "cell_type": "code",
   "execution_count": 21,
   "metadata": {},
   "outputs": [
    {
     "data": {
      "image/png": "[encoded data removed]",
      "text/plain": [
       "<Figure size 800x600 with 1 Axes>"
      ]
     },
     "metadata": {},
     "output_type": "display_data"
    }
   ],
   "source": [
    "import matplotlib.pyplot as plt\n",
    "\n",
    "# Plotting Test Accuracy vs. Training Set Percentage\n",
    "# Fix hyperparameters for this plot: learning rate and number of epochs.\n",
    "fixed_lr = 0.005\n",
    "fixed_epochs = 50\n",
    "\n",
    "# We'll vary the training set percentage (tr_percent) as defined earlier\n",
    "accuracies = []\n",
    "for tr_size in tr_percent:\n",
    "    size = round(len(instances_tr) * tr_size / 100)\n",
    "    pre_instances = instances_tr[:size]\n",
    "    weights = train_perceptron(pre_instances, fixed_lr, fixed_epochs)\n",
    "    accuracy = get_accuracy(weights, instances_te)\n",
    "    accuracies.append(accuracy)\n",
    "\n",
    "# Create the plot\n",
    "plt.figure(figsize=(8, 6))\n",
    "plt.plot(tr_percent, accuracies, marker='o', linestyle='-', color='b')\n",
    "plt.xlabel(\"Training Set Percentage (%)\")\n",
    "plt.ylabel(\"Test Accuracy (%)\")\n",
    "plt.title(f\"Test Accuracy vs Training Set Percentage\\n(lr={fixed_lr}, epochs={fixed_epochs})\")\n",
    "plt.grid(True)\n",
    "plt.show()"
   ]
  },
  {
   "cell_type": "markdown",
   "metadata": {
    "id": "OFB9MtwML24O"
   },
   "source": [
    "### Question 3\n",
    "Write a couple paragraphs interpreting the results with all the combinations of hyperparameters. Drawing a plot will probably help you make a point. In particular, answer the following:\n",
    "\n",
    "- A. Do you need to train with all the training dataset to get the highest accuracy with the test dataset?\n",
    "- B. How do you justify that training the second run obtains worse accuracy than the first one (despite the second one uses more training data)?\n",
    "\n",
    "```\n",
    "#tr: 100, epochs:  20, learning rate: 0.050; Accuracy (test, 100 instances): 71.0\n",
    "#tr: 200, epochs:  20, learning rate: 0.005; Accuracy (test, 100 instances): 68.0\n",
    "```\n",
    "- C. Can you get higher accuracy with additional hyperparameters (higher than `80.0`)?\n",
    "- D. Is it always worth training for more epochs (while keeping all other hyperparameters fixed)?\n",
    "\n",
    "#### TODO: Add your answer here (code and text)\n",
    "\"\"\"\n",
    "A : Based on the output, high accuracy (85.7%) was reached even with a smaller subset of the training data (e.g., 20 or 200 instances). This suggests that, for this dataset and model, a smaller but representative sample can be sufficient to capture the essential patterns. In other words, you may not always need the full training set to achieve high test accuracy.\n",
    "\n",
    "B : Sometimes, increasing the training data does not automatically improve performance. In the output, some larger training sizes still resulted in 71.4% accuracy. This could be due to several reasons:\n",
    "\t•\tThe additional data might introduce more noise or contain outliers that make learning more difficult.\n",
    "\t•\tThe hyperparameters (learning rate, number of epochs) tuned for a smaller subset might not be optimal when using more data.\n",
    "\t•\tThe extra data might not be as representative or might shift the distribution in a way that the model—without further tuning—cannot handle effectively.\n",
    "So, even if more data is available, the model’s performance suffered if the training process (or hyperparameters) isn’t adjusted accordingly.\n",
    "\n",
    "C : Yes the results indicate that by choosing appropriate hyperparameter combinations (for example, lr=0.005 with 100 epochs or certain settings with lr=0.010), higher accuracy of 85.7% can be reached. This suggests that additional tuning and experimenting with hyperparameters (and possibly even expanding the search to include other values) can indeed push the accuracy above the 80.0% threshold.\n",
    "\n",
    "D : Not necessarily. the output shows that for some hyperparameter combinations, increasing the number of epochs from, say, 5 to 100 leads to improvements (e.g., from 71.4% to 85.7% at lr=0.005), but in other cases, it has little or even a negative effect (for instance, at lr=0.010 with 20 training instances, accuracy drops from 71.4% to 42.9% when moving from 50 to 100 epochs). This demonstrates that more epochs can lead to overfitting or may not benefit learning if the model has already converged. In practice, monitoring performance and using early stopping is a better strategy than simply training for more epochs.\n",
    "\"\"\""
   ]
  },
  {
   "cell_type": "code",
   "execution_count": null,
   "metadata": {},
   "outputs": [],
   "source": []
  }
 ],
 "metadata": {
  "accelerator": "GPU",
  "colab": {
   "collapsed_sections": [],
   "name": "HW2_The_Perceptron.ipynb",
   "provenance": []
  },
  "kernelspec": {
   "display_name": "Python 3 (ipykernel)",
   "language": "python",
   "name": "python3"
  },
  "language_info": {
   "codemirror_mode": {
    "name": "ipython",
    "version": 3
   },
   "file_extension": ".py",
   "mimetype": "text/x-python",
   "name": "python",
   "nbconvert_exporter": "python",
   "pygments_lexer": "ipython3",
   "version": "3.11.10"
  }
 },
 "nbformat": 4,
 "nbformat_minor": 4
}
